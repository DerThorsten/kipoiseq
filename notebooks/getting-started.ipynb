{
 "cells": [
  {
   "cell_type": "markdown",
   "metadata": {},
   "source": [
    "## Getting started"
   ]
  },
  {
   "cell_type": "code",
   "execution_count": 2,
   "metadata": {},
   "outputs": [
    {
     "name": "stdout",
     "output_type": "stream",
     "text": [
      "Requirement already satisfied: kipoiseq in /home/avsec/workspace/kipoi/kipoiseq\n",
      "Requirement already satisfied: kipoi>=0.4.1 in /home/avsec/workspace/kipoi/kipoi (from kipoiseq)\n",
      "Requirement already satisfied: pybedtools in /home/avsec/bin/anaconda3/lib/python3.6/site-packages (from kipoiseq)\n",
      "Requirement already satisfied: pyfaidx in /home/avsec/bin/anaconda3/lib/python3.6/site-packages (from kipoiseq)\n",
      "Requirement already satisfied: numpy in /home/avsec/bin/anaconda3/lib/python3.6/site-packages (from kipoiseq)\n",
      "Requirement already satisfied: pandas in /home/avsec/bin/anaconda3/lib/python3.6/site-packages (from kipoiseq)\n",
      "Requirement already satisfied: tqdm in /home/avsec/bin/anaconda3/lib/python3.6/site-packages (from kipoiseq)\n",
      "Requirement already satisfied: colorlog in /home/avsec/bin/anaconda3/lib/python3.6/site-packages (from kipoiseq)\n",
      "Requirement already satisfied: related>=0.6.0 in /home/avsec/bin/anaconda3/lib/python3.6/site-packages (from kipoiseq)\n",
      "Requirement already satisfied: h5py in /home/avsec/bin/anaconda3/lib/python3.6/site-packages (from kipoiseq)\n",
      "Requirement already satisfied: pyyaml in /home/avsec/bin/anaconda3/lib/python3.6/site-packages (from kipoi>=0.4.1->kipoiseq)\n",
      "Requirement already satisfied: future in /home/avsec/bin/anaconda3/lib/python3.6/site-packages (from kipoi>=0.4.1->kipoiseq)\n",
      "Requirement already satisfied: enum34 in /home/avsec/bin/anaconda3/lib/python3.6/site-packages (from kipoi>=0.4.1->kipoiseq)\n",
      "Requirement already satisfied: cookiecutter in /home/avsec/bin/anaconda3/lib/python3.6/site-packages (from kipoi>=0.4.1->kipoiseq)\n",
      "Requirement already satisfied: urllib3<1.23,>=1.21.1 in /home/avsec/bin/anaconda3/lib/python3.6/site-packages (from kipoi>=0.4.1->kipoiseq)\n",
      "Requirement already satisfied: six in /home/avsec/bin/anaconda3/lib/python3.6/site-packages (from pybedtools->kipoiseq)\n",
      "Requirement already satisfied: setuptools>=0.7 in /home/avsec/bin/anaconda3/lib/python3.6/site-packages (from pyfaidx->kipoiseq)\n",
      "Requirement already satisfied: python-dateutil>=2 in /home/avsec/bin/anaconda3/lib/python3.6/site-packages (from pandas->kipoiseq)\n",
      "Requirement already satisfied: pytz>=2011k in /home/avsec/bin/anaconda3/lib/python3.6/site-packages (from pandas->kipoiseq)\n",
      "Requirement already satisfied: attrs in /home/avsec/bin/anaconda3/lib/python3.6/site-packages (from related>=0.6.0->kipoiseq)\n",
      "Requirement already satisfied: singledispatch in /home/avsec/bin/anaconda3/lib/python3.6/site-packages (from related>=0.6.0->kipoiseq)\n",
      "Requirement already satisfied: poyo>=0.1.0 in /home/avsec/bin/anaconda3/lib/python3.6/site-packages (from cookiecutter->kipoi>=0.4.1->kipoiseq)\n",
      "Requirement already satisfied: requests>=2.18.0 in /home/avsec/bin/anaconda3/lib/python3.6/site-packages (from cookiecutter->kipoi>=0.4.1->kipoiseq)\n",
      "Requirement already satisfied: whichcraft>=0.4.0 in /home/avsec/bin/anaconda3/lib/python3.6/site-packages (from cookiecutter->kipoi>=0.4.1->kipoiseq)\n",
      "Requirement already satisfied: jinja2-time>=0.1.0 in /home/avsec/bin/anaconda3/lib/python3.6/site-packages (from cookiecutter->kipoi>=0.4.1->kipoiseq)\n",
      "Requirement already satisfied: jinja2>=2.7 in /home/avsec/bin/anaconda3/lib/python3.6/site-packages (from cookiecutter->kipoi>=0.4.1->kipoiseq)\n",
      "Requirement already satisfied: click>=5.0 in /home/avsec/bin/anaconda3/lib/python3.6/site-packages (from cookiecutter->kipoi>=0.4.1->kipoiseq)\n",
      "Requirement already satisfied: binaryornot>=0.2.0 in /home/avsec/bin/anaconda3/lib/python3.6/site-packages (from cookiecutter->kipoi>=0.4.1->kipoiseq)\n",
      "Requirement already satisfied: chardet<3.1.0,>=3.0.2 in /home/avsec/bin/anaconda3/lib/python3.6/site-packages (from requests>=2.18.0->cookiecutter->kipoi>=0.4.1->kipoiseq)\n",
      "Requirement already satisfied: idna<2.7,>=2.5 in /home/avsec/bin/anaconda3/lib/python3.6/site-packages (from requests>=2.18.0->cookiecutter->kipoi>=0.4.1->kipoiseq)\n",
      "Requirement already satisfied: certifi>=2017.4.17 in /home/avsec/bin/anaconda3/lib/python3.6/site-packages (from requests>=2.18.0->cookiecutter->kipoi>=0.4.1->kipoiseq)\n",
      "Requirement already satisfied: arrow in /home/avsec/bin/anaconda3/lib/python3.6/site-packages (from jinja2-time>=0.1.0->cookiecutter->kipoi>=0.4.1->kipoiseq)\n",
      "Requirement already satisfied: MarkupSafe>=0.23 in /home/avsec/bin/anaconda3/lib/python3.6/site-packages (from jinja2>=2.7->cookiecutter->kipoi>=0.4.1->kipoiseq)\n",
      "\u001b[33mYou are using pip version 9.0.1, however version 18.1 is available.\n",
      "You should consider upgrading via the 'pip install --upgrade pip' command.\u001b[0m\n"
     ]
    }
   ],
   "source": [
    "# install kipoiseq\n",
    "!pip install kipoiseq"
   ]
  },
  {
   "cell_type": "code",
   "execution_count": 3,
   "metadata": {},
   "outputs": [],
   "source": [
    "from kipoiseq.dataloaders import IntervalSeqDl"
   ]
  },
  {
   "cell_type": "markdown",
   "metadata": {},
   "source": [
    "### Get the example files"
   ]
  },
  {
   "cell_type": "markdown",
   "metadata": {},
   "source": [
    "SeqDaset comes with some example files that get downloaded"
   ]
  },
  {
   "cell_type": "code",
   "execution_count": 6,
   "metadata": {},
   "outputs": [
    {
     "name": "stdout",
     "output_type": "stream",
     "text": [
      "Downloading data from https://raw.githubusercontent.com/kipoi/kipoiseq/master/tests/data/example_intervals.bed\n",
      "8192/57 [=======================================================================================================================================================================================================================================================================================================================================================================================================================================================================================================================================================================================================================================================================================================================================================================================================================================================================================================================================================================================================================================================================================================================================================================================================================================================================================================================================================================================================================================================================================================================================================================================================================================================================================================================================================================================================================================================================================================================================================================================================================================================================================================================================================================================================================================================================================================================================================================================================================================================================================================================================================================================================================================================================================================================================================================================================================================================================================================================================================================================================================================================================================================================================================================================================================================================================================================================================================================================================================================================================================================================================================================================================================================================================================================================================================================================================================================================================================================================================================================================================================================================================================================================================================================================================================================================================================================================================================================================================================================================================================] - 0s 0us/step\n",
      "Downloading data from https://raw.githubusercontent.com/kipoi/kipoiseq/master/tests/data/sample.5kb.fa\n",
      "8192/5006 [=================================================] - 0s 0us/step\n"
     ]
    },
    {
     "data": {
      "text/plain": [
       "{'fasta_file': '/home/avsec/workspace/kipoi/kipoiseq/notebooks/downloaded/example_files/fasta_file',\n",
       " 'intervals_file': '/home/avsec/workspace/kipoi/kipoiseq/notebooks/downloaded/example_files/intervals_file'}"
      ]
     },
     "execution_count": 6,
     "metadata": {},
     "output_type": "execute_result"
    }
   ],
   "source": [
    "kwargs = IntervalSeqDl.example_kwargs\n",
    "kwargs"
   ]
  },
  {
   "cell_type": "code",
   "execution_count": 13,
   "metadata": {},
   "outputs": [
    {
     "name": "stdout",
     "output_type": "stream",
     "text": [
      ">chr1\n",
      "ACGTAACGTAACGTAACGTAACGTAACGTAACGTAACGTAACGTAACGTAACGTAACGTAACGTAACGTAACGTAACGTAACGTAACGTAACGTAACGTAACGTAACGTAACGTAACGTAACGTAACGTAACGTAACGTAACGTAACGTAACGTAACGTAACGTAACGTAACGTAACGTAACGTAACGTAACGTAACGTAACGTAACGTAACGTAACGTAACGTAACGTAACGTAACGTAACGTAACGTAACGTAACGTAACGTAACGTAACGTAACGTAACGTAACGTAACGTAACGTAACGTAACGTAACGTAACGTAACGTAACGTAACGTAACGTAACGTAACGTAACGTAACGTAACGTAACGTAACGTAACGTAACGTAACGTAACGTAACGTAACGTAACGTAACGTAACGTAACGTAACGTAACGTAACGTAACGTAACGTAACGTAACGTAACGTAACGTAACGTAACGTAACGTAACGTAACGTAACGTAACGTAACGTAACGTAACGTAACGTAACGTAACGTAACGTAACGTAACGTAACGTAACGTAACGTAACGTAACGTAACGTAACGTAACGTAACGTAACGTAACGTAACGTAACGTAACGTAACGTAACGTAACGTAACGTAACGTAACGTAACGTAACGTAACGTAACGTAACGTAACGTAACGTAACGTAACGTAACGTAACGTAACGTAACGTAACGTAACGTAACGTAACGTAACGTAACGTAACGTAACGTAACGTAACGTAACGTAACGTAACGTAACGTAACGTAACGTAACGTAACGTAACGTAACGTAACGTAACGTAACGTAACGTAACGTAACGTAACGTAACGTAACGTAACGTAACGTAACGTAACGTAACGTAACGTAACGTAACGTAACGTAACGTAACGTAACGTAACGTAACGTAACGTAACGTAACGTAACGTAACGTAACGTAACGTAACGTAACGTAACGTAACGTAACGTAACGTAACGTAACGTAACGTAACGTAACGTAACGTAACGTAACGTAACGTAACGTAACGTAACGTAACGTAACGTAACGTAACGTAACGTAACGTAACGTAACGTAACGTAACGTAACGTAACGTAACGTAACGTAACGTAACGTAACGTAACGTAACGTAACGTAACGTAACGTAACGTAACGTAACGTAACGTAACGTAACGTAACGTAACGTAACGTAACGTAACGTAACGTAACGTAACGTAACGTAACGTAACGTAACGTAACGTAACGTAACGTAACGTAACGTAACGTAACGTAACGTAACGTAACGTAACGTAACGTAACGTAACGTAACGTAACGTAACGTAACGTAACGTAACGTAACGTAACGTAACGTAACGTAACGTAACGTAACGTAACGTAACGTAACGTAACGTAACGTAACGTAACGTAACGTAACGTAACGTAACGTAACGTAACGTAACGTAACGTAACGTAACGTAACGTAACGTAACGTAACGTAACGTAACGTAACGTAACGTAACGTAACGTAACGTAACGTAACGTAACGTAACGTAACGTAACGTAACGTAACGTAACGTAACGTAACGTAACGTAACGTAACGTAACGTAACGTAACGTAACGTAACGTAACGTAACGTAACGTAACGTAACGTAACGTAACGTAACGTAACGTAACGTAACGTAACGTAACGTAACGTAACGTAACGTAACGTAACGTAACGTAACGTAACGTAACGTAACGTAACGTAACGTAACGTAACGTAACGTAACGTAACGTAACGTAACGTAACGTAACGTAACGTAACGTAACGTAACGTAACGTAACGTAACGTAACGTAACGTAACGTAACGTAACGTAACGTAACGTAACGTAACGTAACGTAACGTAACGTAACGTAACGTAACGTAACGTAACGTAACGTAACGTAACGTAACGTAACGTAACGTAACGTAACGTAACGTAACGTAACGTAACGTAACGTAACGTAACGTAACGTAACGTAACGTAACGTAACGTAACGTAACGTAACGTAACGTAACGTAACGTAACGTAACGTAACGTAACGTAACGTAACGTAACGTAACGTAACGTAACGTAACGTAACGTAACGTAACGTAACGTAACGTAACGTAACGTAACGTAACGTAACGTAACGTAACGTAACGTAACGTAACGTAACGTAACGTAACGTAACGTAACGTAACGTAACGTAACGTAACGTAACGTAACGTAACGTAACGTAACGTAACGTAACGTAACGTAACGTAACGTAACGTAACGTAACGTAACGTAACGTAACGTAACGTAACGTAACGTAACGTAACGTAACGTAACGTAACGTAACGTAACGTAACGTAACGTAACGTAACGTAACGTAACGTAACGTAACGTAACGTAACGTAACGTAACGTAACGTAACGTAACGTAACGTAACGTAACGTAACGTAACGTAACGTAACGTAACGTAACGTAACGTAACGTAACGTAACGTAACGTAACGTAACGTAACGTAACGTAACGTAACGTAACGTAACGTAACGTAACGTAACGTAACGTAACGTAACGTAACGTAACGTAACGTAACGTAACGTAACGTAACGTAACGTAACGTAACGTAACGTAACGTAACGTAACGTAACGTAACGTAACGTAACGTAACGTAACGTAACGTAACGTAACGTAACGTAACGTAACGTAACGTAACGTAACGTAACGTAACGTAACGTAACGTAACGTAACGTAACGTAACGTAACGTAACGTAACGTAACGTAACGTAACGTAACGTAACGTAACGTAACGTAACGTAACGTAACGTAACGTAACGTAACGTAACGTAACGTAACGTAACGTAACGTAACGTAACGTAACGTAACGTAACGTAACGTAACGTAACGTAACGTAACGTAACGTAACGTAACGTAACGTAACGTAACGTAACGTAACGTAACGTAACGTAACGTAACGTAACGTAACGTAACGTAACGTAACGTAACGTAACGTAACGTAACGTAACGTAACGTAACGTAACGTAACGTAACGTAACGTAACGTAACGTAACGTAACGTAACGTAACGTAACGTAACGTAACGTAACGTAACGTAACGTAACGTAACGTAACGTAACGTAACGTAACGTAACGTAACGTAACGTAACGTAACGTAACGTAACGTAACGTAACGTAACGTAACGTAACGTAACGTAACGTAACGTAACGTAACGTAACGTAACGTAACGTAACGTAACGTAACGTAACGTAACGTAACGTAACGTAACGTAACGTAACGTAACGTAACGTAACGTAACGTAACGTAACGTAACGTAACGTAACGTAACGTAACGTAACGTAACGTAACGTAACGTAACGTAACGTAACGTAACGTAACGTAACGTAACGTAACGTAACGTAACGTAACGTAACGTAACGTAACGTAACGTAACGTAACGTAACGTAACGTAACGTAACGTAACGTAACGTAACGTAACGTAACGTAACGTAACGTAACGTAACGTAACGTAACGTAACGTAACGTAACGTAACGTAACGTAACGTAACGTAACGTAACGTAACGTAACGTAACGTAACGTAACGTAACGTAACGTAACGTAACGTAACGTAACGTAACGTAACGTAACGTAACGTAACGTAACGTAACGTAACGTAACGTAACGTAACGTAACGTAACGTAACGTAACGTAACGTAACGTAACGTAACGTAACGTAACGTAACGTAACGTAACGTAACGTAACGTAACGTAACGTAACGTAACGTAACGTAACGTAACGTAACGTAACGTAACGTAACGTAACGTAACGTAACGTAACGTAACGTAACGTAACGTAACGTAACGTAACGTAACGTAACGTAACGTAACGTAACGTAACGTAACGTAACGTAACGTAACGTAACGTAACGTAACGTAACGTAACGTAACGTAACGTAACGTAACGTAACGTAACGTAACGTAACGTAACGTAACGTAACGTAACGTAACGTAACGTAACGTAACGTAACGTAACGTAACGTAACGTAACGTAACGTAACGTAACGTAACGTAACGTAACGTAACGTAACGTAACGTAACGTAACGTAACGTAACGTAACGTAACGTAACGTAACGTAACGTAACGTAACGTAACGTAACGTAACGTAACGTAACGTAACGTAACGTAACGTAACGTAACGTAACGTAACGTAACGTAACGTAACGTAACGTAACGTAACGTAACGTAACGTAACGTAACGTAACGTAACGTAACGTAACGTAACGTAACGTAACGTAACGTAACGTAACGTAACGTAACGTAACGTAACGTAACGTAACGTAACGTAACGTAACGTAACGTAACGTAACGTAACGTAACGTAACGTAACGTAACGTAACGTAACGTAACGTAACGTAACGTAACGTAACGTAACGTAACGTAACGTAACGTAACGTAACGTAACGTAACGTAACGTAACGTAACGTAACGTAACGTAACGTAACGTAACGTAACGTAACGTAACGTAACGTAACGTAACGTAACGTAACGTAACGTAACGTAACGTAACGTAACGTAACGTAACGTAACGTAACGTAACGTAACGTAACGTAACGTAACGTAACGTAACGTAACGTAACGTAACGTAACGTAACGTAACGTAACGTAACGTAACGTAACGTAACGTAACGTAACGTAACGTAACGTAACGTAACGTAACGTAACGTAACGTAACGTAACGTAACGTAACGTAACGTAACGTAACGTAACGTAACGTAACGTAACGTAACGTAACGTAACGTAACGTAACGTAACGTAACGTAACGTAACGTAACGTAACGTAACGTAACGTAACGTAACGTAACGTAACGTAACGTAACGTAACGTAACGTAACGTAACGTAACGTAACGTAACGTAACGTAACGTAACGTAACGTAACGTAACGTAACGTAACGTAACGTAACGTAACGTAACGTAACGTAACGTAACGTAACGTAACGTAACGTAACGTAACGTA"
     ]
    }
   ],
   "source": [
    "!cat {kwargs['fasta_file']}"
   ]
  },
  {
   "cell_type": "code",
   "execution_count": 14,
   "metadata": {},
   "outputs": [
    {
     "name": "stdout",
     "output_type": "stream",
     "text": [
      "chr1\t2\t1000\t1\n",
      "chr1\t2\t5000\t1\n",
      "chr1\t2\t1002\t1\n",
      "chr1\t602\t604\t1\n"
     ]
    }
   ],
   "source": [
    "!cat {kwargs['intervals_file']}"
   ]
  },
  {
   "cell_type": "markdown",
   "metadata": {},
   "source": [
    "Extra columns (all ones) are binary labels for the interval"
   ]
  },
  {
   "cell_type": "markdown",
   "metadata": {},
   "source": [
    "### Setup the dataset"
   ]
  },
  {
   "cell_type": "code",
   "execution_count": 15,
   "metadata": {},
   "outputs": [],
   "source": [
    "# setup the dataset\n",
    "dl = IntervalSeqDl(**kwargs)"
   ]
  },
  {
   "cell_type": "code",
   "execution_count": 16,
   "metadata": {},
   "outputs": [
    {
     "data": {
      "text/plain": [
       "4"
      ]
     },
     "execution_count": 16,
     "metadata": {},
     "output_type": "execute_result"
    }
   ],
   "source": [
    "len(dl)"
   ]
  },
  {
   "cell_type": "code",
   "execution_count": 19,
   "metadata": {},
   "outputs": [
    {
     "data": {
      "text/plain": [
       "{'inputs': array([[0., 0., 1., 0.],\n",
       "        [0., 0., 0., 1.],\n",
       "        [1., 0., 0., 0.],\n",
       "        [1., 0., 0., 0.],\n",
       "        [0., 1., 0., 0.],\n",
       "        [0., 0., 1., 0.],\n",
       "        [0., 0., 0., 1.],\n",
       "        [1., 0., 0., 0.],\n",
       "        [1., 0., 0., 0.],\n",
       "        [0., 1., 0., 0.],\n",
       "        [0., 0., 1., 0.],\n",
       "        [0., 0., 0., 1.],\n",
       "        [1., 0., 0., 0.],\n",
       "        [1., 0., 0., 0.],\n",
       "        [0., 1., 0., 0.],\n",
       "        [0., 0., 1., 0.],\n",
       "        [0., 0., 0., 1.],\n",
       "        [1., 0., 0., 0.],\n",
       "        [1., 0., 0., 0.],\n",
       "        [0., 1., 0., 0.],\n",
       "        ...,\n",
       "        [1., 0., 0., 0.],\n",
       "        [0., 1., 0., 0.],\n",
       "        [0., 0., 1., 0.],\n",
       "        [0., 0., 0., 1.],\n",
       "        [1., 0., 0., 0.],\n",
       "        [1., 0., 0., 0.],\n",
       "        [0., 1., 0., 0.],\n",
       "        [0., 0., 1., 0.],\n",
       "        [0., 0., 0., 1.],\n",
       "        [1., 0., 0., 0.],\n",
       "        [1., 0., 0., 0.],\n",
       "        [0., 1., 0., 0.],\n",
       "        [0., 0., 1., 0.],\n",
       "        [0., 0., 0., 1.],\n",
       "        [1., 0., 0., 0.],\n",
       "        [1., 0., 0., 0.],\n",
       "        [0., 1., 0., 0.],\n",
       "        [0., 0., 1., 0.],\n",
       "        [0., 0., 0., 1.],\n",
       "        [1., 0., 0., 0.]]),\n",
       " 'metadata': {'ranges': GenomicRanges(chr='chr1', start=2, end=1000, id='0', strand='*')},\n",
       " 'targets': array([1.])}"
      ]
     },
     "execution_count": 19,
     "metadata": {},
     "output_type": "execute_result"
    }
   ],
   "source": [
    "dl[0]"
   ]
  },
  {
   "cell_type": "markdown",
   "metadata": {},
   "source": [
    "Sequence is one-hot encoded. You can see that the first interval matches the one provided in the intervals file. You can also see that the extra columns got parsed as targets."
   ]
  },
  {
   "cell_type": "code",
   "execution_count": 22,
   "metadata": {},
   "outputs": [
    {
     "data": {
      "text/plain": [
       "998"
      ]
     },
     "execution_count": 22,
     "metadata": {},
     "output_type": "execute_result"
    }
   ],
   "source": [
    "len(dl[0]['inputs'])"
   ]
  },
  {
   "cell_type": "markdown",
   "metadata": {},
   "source": [
    "Since the intervals are all of variable length, we have to resize them."
   ]
  },
  {
   "cell_type": "code",
   "execution_count": 23,
   "metadata": {},
   "outputs": [],
   "source": [
    "dl = IntervalSeqDl(auto_resize_len=10, **kwargs)"
   ]
  },
  {
   "cell_type": "code",
   "execution_count": 24,
   "metadata": {},
   "outputs": [
    {
     "data": {
      "text/plain": [
       "10"
      ]
     },
     "execution_count": 24,
     "metadata": {},
     "output_type": "execute_result"
    }
   ],
   "source": [
    "len(dl[0]['inputs'])"
   ]
  },
  {
   "cell_type": "markdown",
   "metadata": {},
   "source": [
    "You can load the whole dataset into memory"
   ]
  },
  {
   "cell_type": "code",
   "execution_count": 25,
   "metadata": {},
   "outputs": [
    {
     "name": "stderr",
     "output_type": "stream",
     "text": [
      "100%|██████████| 1/1 [00:00<00:00, 431.34it/s]\n"
     ]
    }
   ],
   "source": [
    "data = dl.load_all()"
   ]
  },
  {
   "cell_type": "code",
   "execution_count": 27,
   "metadata": {},
   "outputs": [],
   "source": [
    "import pandas as pd"
   ]
  },
  {
   "cell_type": "code",
   "execution_count": 27,
   "metadata": {},
   "outputs": [
    {
     "data": {
      "text/html": [
       "<div>\n",
       "<style scoped>\n",
       "    .dataframe tbody tr th:only-of-type {\n",
       "        vertical-align: middle;\n",
       "    }\n",
       "\n",
       "    .dataframe tbody tr th {\n",
       "        vertical-align: top;\n",
       "    }\n",
       "\n",
       "    .dataframe thead th {\n",
       "        text-align: right;\n",
       "    }\n",
       "</style>\n",
       "<table border=\"1\" class=\"dataframe\">\n",
       "  <thead>\n",
       "    <tr style=\"text-align: right;\">\n",
       "      <th></th>\n",
       "      <th>chr</th>\n",
       "      <th>end</th>\n",
       "      <th>id</th>\n",
       "      <th>start</th>\n",
       "      <th>strand</th>\n",
       "    </tr>\n",
       "  </thead>\n",
       "  <tbody>\n",
       "    <tr>\n",
       "      <th>0</th>\n",
       "      <td>chr1</td>\n",
       "      <td>506</td>\n",
       "      <td>0</td>\n",
       "      <td>496</td>\n",
       "      <td>*</td>\n",
       "    </tr>\n",
       "    <tr>\n",
       "      <th>1</th>\n",
       "      <td>chr1</td>\n",
       "      <td>2506</td>\n",
       "      <td>1</td>\n",
       "      <td>2496</td>\n",
       "      <td>*</td>\n",
       "    </tr>\n",
       "    <tr>\n",
       "      <th>2</th>\n",
       "      <td>chr1</td>\n",
       "      <td>507</td>\n",
       "      <td>2</td>\n",
       "      <td>497</td>\n",
       "      <td>*</td>\n",
       "    </tr>\n",
       "    <tr>\n",
       "      <th>3</th>\n",
       "      <td>chr1</td>\n",
       "      <td>608</td>\n",
       "      <td>3</td>\n",
       "      <td>598</td>\n",
       "      <td>*</td>\n",
       "    </tr>\n",
       "  </tbody>\n",
       "</table>\n",
       "</div>"
      ],
      "text/plain": [
       "    chr   end id  start strand\n",
       "0  chr1   506  0    496      *\n",
       "1  chr1  2506  1   2496      *\n",
       "2  chr1   507  2    497      *\n",
       "3  chr1   608  3    598      *"
      ]
     },
     "execution_count": 27,
     "metadata": {},
     "output_type": "execute_result"
    }
   ],
   "source": [
    "pd.DataFrame(data['metadata']['ranges'])"
   ]
  },
  {
   "cell_type": "markdown",
   "metadata": {},
   "source": [
    "Or you can load it batch by batch"
   ]
  },
  {
   "cell_type": "markdown",
   "metadata": {},
   "source": [
    "### Training a Keras model"
   ]
  },
  {
   "cell_type": "code",
   "execution_count": 28,
   "metadata": {},
   "outputs": [],
   "source": [
    "# setup a simple model\n",
    "import keras.layers as kl\n",
    "from keras.models import Sequential"
   ]
  },
  {
   "cell_type": "code",
   "execution_count": 40,
   "metadata": {},
   "outputs": [],
   "source": [
    "model = Sequential([kl.Conv1D(3, 2, activation='relu', input_shape=(10,4)), \n",
    "                    kl.GlobalMaxPool1D(), \n",
    "                    kl.Dense(1)])"
   ]
  },
  {
   "cell_type": "code",
   "execution_count": 41,
   "metadata": {},
   "outputs": [],
   "source": [
    "model.compile('adam', 'binary_crossentropy', ['acc'])"
   ]
  },
  {
   "cell_type": "code",
   "execution_count": 42,
   "metadata": {},
   "outputs": [],
   "source": [
    "batch_size = 2"
   ]
  },
  {
   "cell_type": "code",
   "execution_count": 43,
   "metadata": {},
   "outputs": [],
   "source": [
    "# setup an iterator\n",
    "iterator = dl.batch_train_iter(batch_size=batch_size, num_workers=4)   # use 4 workers in paralellel to load the data"
   ]
  },
  {
   "cell_type": "code",
   "execution_count": 44,
   "metadata": {},
   "outputs": [
    {
     "name": "stdout",
     "output_type": "stream",
     "text": [
      "Epoch 1/10\n",
      "2/2 [==============================] - 2s 872ms/step - loss: 1.9794 - acc: 0.0000e+00\n",
      "Epoch 2/10\n",
      "2/2 [==============================] - 0s 42ms/step - loss: 1.8601 - acc: 0.0000e+00\n",
      "Epoch 3/10\n",
      "2/2 [==============================] - 0s 49ms/step - loss: 1.7510 - acc: 0.0000e+00\n",
      "Epoch 4/10\n",
      "2/2 [==============================] - 0s 45ms/step - loss: 1.6504 - acc: 0.0000e+00\n",
      "Epoch 5/10\n",
      "2/2 [==============================] - 0s 35ms/step - loss: 1.5588 - acc: 0.0000e+00\n",
      "Epoch 6/10\n",
      "2/2 [==============================] - 0s 50ms/step - loss: 1.4754 - acc: 0.0000e+00\n",
      "Epoch 7/10\n",
      "2/2 [==============================] - 0s 42ms/step - loss: 1.3994 - acc: 0.0000e+00\n",
      "Epoch 8/10\n",
      "2/2 [==============================] - 0s 8ms/step - loss: 1.3300 - acc: 0.0000e+00\n",
      "Epoch 9/10\n",
      "2/2 [==============================] - 0s 38ms/step - loss: 1.2662 - acc: 0.0000e+00\n",
      "Epoch 10/10\n",
      "2/2 [==============================] - 0s 48ms/step - loss: 1.2075 - acc: 0.0000e+00\n"
     ]
    },
    {
     "data": {
      "text/plain": [
       "<keras.callbacks.History at 0x7fd96f865668>"
      ]
     },
     "execution_count": 44,
     "metadata": {},
     "output_type": "execute_result"
    }
   ],
   "source": [
    "model.fit_generator(iterator, steps_per_epoch=len(dl)//batch_size, epochs=10)"
   ]
  },
  {
   "cell_type": "markdown",
   "metadata": {},
   "source": [
    "#### What does the iterator return?"
   ]
  },
  {
   "cell_type": "code",
   "execution_count": 49,
   "metadata": {},
   "outputs": [],
   "source": [
    "x,y = next(iterator)"
   ]
  },
  {
   "cell_type": "code",
   "execution_count": 52,
   "metadata": {},
   "outputs": [
    {
     "data": {
      "text/plain": [
       "array([[[0., 1., 0., 0.],\n",
       "        [0., 0., 1., 0.],\n",
       "        [0., 0., 0., 1.],\n",
       "        [1., 0., 0., 0.],\n",
       "        [1., 0., 0., 0.],\n",
       "        [0., 1., 0., 0.],\n",
       "        [0., 0., 1., 0.],\n",
       "        [0., 0., 0., 1.],\n",
       "        [1., 0., 0., 0.],\n",
       "        [1., 0., 0., 0.]],\n",
       "\n",
       "       [[0., 1., 0., 0.],\n",
       "        [0., 0., 1., 0.],\n",
       "        [0., 0., 0., 1.],\n",
       "        [1., 0., 0., 0.],\n",
       "        [1., 0., 0., 0.],\n",
       "        [0., 1., 0., 0.],\n",
       "        [0., 0., 1., 0.],\n",
       "        [0., 0., 0., 1.],\n",
       "        [1., 0., 0., 0.],\n",
       "        [1., 0., 0., 0.]]])"
      ]
     },
     "execution_count": 52,
     "metadata": {},
     "output_type": "execute_result"
    }
   ],
   "source": [
    "x  # one-hot encoded DNA sequence"
   ]
  },
  {
   "cell_type": "code",
   "execution_count": 53,
   "metadata": {},
   "outputs": [
    {
     "data": {
      "text/plain": [
       "(2, 10, 4)"
      ]
     },
     "execution_count": 53,
     "metadata": {},
     "output_type": "execute_result"
    }
   ],
   "source": [
    "x.shape"
   ]
  },
  {
   "cell_type": "code",
   "execution_count": 56,
   "metadata": {},
   "outputs": [
    {
     "data": {
      "text/plain": [
       "array([[1.],\n",
       "       [1.]])"
      ]
     },
     "execution_count": 56,
     "metadata": {},
     "output_type": "execute_result"
    }
   ],
   "source": [
    "y  # target labels"
   ]
  },
  {
   "cell_type": "code",
   "execution_count": 57,
   "metadata": {},
   "outputs": [
    {
     "data": {
      "text/plain": [
       "(2, 1)"
      ]
     },
     "execution_count": 57,
     "metadata": {},
     "output_type": "execute_result"
    }
   ],
   "source": [
    "y.shape"
   ]
  },
  {
   "cell_type": "markdown",
   "metadata": {},
   "source": [
    "### Making predictions and writing them iteratively to an hdf5 file"
   ]
  },
  {
   "cell_type": "markdown",
   "metadata": {},
   "source": [
    "Let's say you have a very large dataset and you want to save the predictions batch-by-batch into an hdf5 file together with the `metadata`. Here is how you can do that"
   ]
  },
  {
   "cell_type": "code",
   "execution_count": 59,
   "metadata": {},
   "outputs": [],
   "source": [
    "from kipoi.writers import HDF5BatchWriter"
   ]
  },
  {
   "cell_type": "code",
   "execution_count": 60,
   "metadata": {},
   "outputs": [],
   "source": [
    "writer = HDF5BatchWriter(\"/tmp/preds.h5\")"
   ]
  },
  {
   "cell_type": "code",
   "execution_count": 62,
   "metadata": {},
   "outputs": [],
   "source": [
    "for batch in dl.batch_iter(batch_size=batch_size, num_workers=4):\n",
    "    preds = model.predict_on_batch(batch['inputs'])\n",
    "    to_write = {\"preds\": preds, \"metadata\": batch['metadata']}\n",
    "    writer.batch_write(to_write)"
   ]
  },
  {
   "cell_type": "code",
   "execution_count": 63,
   "metadata": {},
   "outputs": [],
   "source": [
    "writer.close()"
   ]
  },
  {
   "cell_type": "markdown",
   "metadata": {},
   "source": [
    "Let's have a look at what we wrote"
   ]
  },
  {
   "cell_type": "code",
   "execution_count": 64,
   "metadata": {},
   "outputs": [],
   "source": [
    "from kipoi.readers import HDF5Reader"
   ]
  },
  {
   "cell_type": "code",
   "execution_count": 66,
   "metadata": {},
   "outputs": [],
   "source": [
    "reader = HDF5Reader('/tmp/preds.h5')\n",
    "reader.open()"
   ]
  },
  {
   "cell_type": "code",
   "execution_count": 68,
   "metadata": {},
   "outputs": [
    {
     "data": {
      "text/plain": [
       "[('/metadata/ranges/chr', <HDF5 dataset \"chr\": shape (4,), type \"|O\">),\n",
       " ('/metadata/ranges/end', <HDF5 dataset \"end\": shape (4,), type \"<i8\">),\n",
       " ('/metadata/ranges/id', <HDF5 dataset \"id\": shape (4,), type \"|O\">),\n",
       " ('/metadata/ranges/start', <HDF5 dataset \"start\": shape (4,), type \"<i8\">),\n",
       " ('/metadata/ranges/strand', <HDF5 dataset \"strand\": shape (4,), type \"|O\">),\n",
       " ('/preds', <HDF5 dataset \"preds\": shape (4, 1), type \"<f4\">)]"
      ]
     },
     "execution_count": 68,
     "metadata": {},
     "output_type": "execute_result"
    }
   ],
   "source": [
    "# list all the arrays\n",
    "reader.ls()"
   ]
  },
  {
   "cell_type": "code",
   "execution_count": 69,
   "metadata": {},
   "outputs": [],
   "source": [
    "data = reader.load_all()"
   ]
  },
  {
   "cell_type": "code",
   "execution_count": 70,
   "metadata": {},
   "outputs": [
    {
     "data": {
      "text/plain": [
       "array([[0.3115],\n",
       "       [0.3115],\n",
       "       [0.3115],\n",
       "       [0.3115]], dtype=float32)"
      ]
     },
     "execution_count": 70,
     "metadata": {},
     "output_type": "execute_result"
    }
   ],
   "source": [
    "data['preds']"
   ]
  },
  {
   "cell_type": "code",
   "execution_count": 73,
   "metadata": {},
   "outputs": [
    {
     "data": {
      "text/plain": [
       "<HDF5 file \"preds.h5\" (mode r)>"
      ]
     },
     "execution_count": 73,
     "metadata": {},
     "output_type": "execute_result"
    }
   ],
   "source": [
    "# handle to the h5py objec\n",
    "reader.f"
   ]
  },
  {
   "cell_type": "code",
   "execution_count": 74,
   "metadata": {},
   "outputs": [
    {
     "data": {
      "text/plain": [
       "array([[0.3115],\n",
       "       [0.3115]], dtype=float32)"
      ]
     },
     "execution_count": 74,
     "metadata": {},
     "output_type": "execute_result"
    }
   ],
   "source": [
    "reader.f['preds'][:2]"
   ]
  },
  {
   "cell_type": "markdown",
   "metadata": {},
   "source": [
    "### Final remarks\n",
    "\n",
    "- See the available arguments of `IntervalSeqDl`: http://kipoi.org/kipoiseq/dataloaders/sequence/#seqdataset\n",
    "- Both, the `intervals_file` and the `fasta_file` may be gzipped.\n",
    "- You may have multiple additional columns in the `intervals_file` to train a multi-task model.\n",
    "- If you are training on large datasets, find the appropriate encoding the the labels (say `bool` for binary-only labels)."
   ]
  }
 ],
 "metadata": {
  "kernelspec": {
   "display_name": "Python [default]",
   "language": "python",
   "name": "python3"
  },
  "language_info": {
   "codemirror_mode": {
    "name": "ipython",
    "version": 3
   },
   "file_extension": ".py",
   "mimetype": "text/x-python",
   "name": "python",
   "nbconvert_exporter": "python",
   "pygments_lexer": "ipython3",
   "version": "3.6.6"
  }
 },
 "nbformat": 4,
 "nbformat_minor": 2
}
